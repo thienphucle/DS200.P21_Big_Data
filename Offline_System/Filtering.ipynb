{
 "cells": [
  {
   "cell_type": "markdown",
   "id": "68253d4d",
   "metadata": {},
   "source": [
    "### **Import lib**"
   ]
  },
  {
   "cell_type": "code",
   "execution_count": 2,
   "id": "0fd68ff7",
   "metadata": {},
   "outputs": [],
   "source": [
    "import pandas as pd\n",
    "import numpy as np\n",
    "from dateutil import tz\n",
    "pd.set_option('display.max_columns', None)\n",
    "pd.set_option('display.max_rows', None)\n",
    "pd.set_option('display.width', None)\n",
    "pd.set_option('display.max_colwidth', None)"
   ]
  },
  {
   "cell_type": "markdown",
   "id": "dea82dc6",
   "metadata": {},
   "source": [
    "### **1. Reading data**"
   ]
  },
  {
   "cell_type": "markdown",
   "id": "16c42d76",
   "metadata": {},
   "source": [
    "**Hong Nhung crawled data**"
   ]
  },
  {
   "cell_type": "code",
   "execution_count": 2,
   "id": "5e81aa2f",
   "metadata": {},
   "outputs": [],
   "source": [
    "hn1 = pd.read_csv(r\"D:\\UIT\\DS200\\DS200_Project\\Dataset\\Raw Data\\User Videos\\HN\\momandbaby_food_videos_1.csv\")\n",
    "hn2 = pd.read_csv(r\"D:\\UIT\\DS200\\DS200_Project\\Dataset\\Raw Data\\User Videos\\HN\\momandbaby_food_videos_2.csv\")\n",
    "hn3 = pd.read_csv(r\"D:\\UIT\\DS200\\DS200_Project\\Dataset\\Raw Data\\User Videos\\HN\\momandbaby_food_videos_3.csv\")\n",
    "hn4 = pd.read_csv(r\"D:\\UIT\\DS200\\DS200_Project\\Dataset\\Raw Data\\User Videos\\HN\\momandbaby_food_videos_4.csv\")\n",
    "hn = pd.concat([hn1, hn2, hn3, hn4])\n",
    "\n",
    "hn_user_name = pd.read_csv(r\"D:\\UIT\\DS200\\DS200_Project\\Dataset\\Raw Data\\User name\\momandbaby_food.csv\")"
   ]
  },
  {
   "cell_type": "markdown",
   "id": "78d76b38",
   "metadata": {},
   "source": [
    "**Thien Phuc crawled data**"
   ]
  },
  {
   "cell_type": "code",
   "execution_count": 3,
   "id": "cb980946",
   "metadata": {},
   "outputs": [],
   "source": [
    "tp1 = pd.read_csv(r\"D:\\UIT\\DS200\\DS200_Project\\Dataset\\Raw Data\\User Videos\\TPL\\health_techandhousehold_videos_1.csv\")\n",
    "tp2 = pd.read_csv(r\"D:\\UIT\\DS200\\DS200_Project\\Dataset\\Raw Data\\User Videos\\TPL\\health_techandhousehold_videos_2.csv\")\n",
    "tp3 = pd.read_csv(r\"D:\\UIT\\DS200\\DS200_Project\\Dataset\\Raw Data\\User Videos\\TPL\\health_techandhousehold_videos_3.csv\")\n",
    "tp4 = pd.read_csv(r\"D:\\UIT\\DS200\\DS200_Project\\Dataset\\Raw Data\\User Videos\\TPL\\health_techandhousehold_videos_4.csv\")\n",
    "tp = pd.concat([tp1, tp2, tp3, tp4])\n",
    "\n",
    "tp_user_name = pd.read_csv(r\"D:\\UIT\\DS200\\DS200_Project\\Dataset\\Raw Data\\User name\\health_techandhousehold.csv\")"
   ]
  },
  {
   "cell_type": "markdown",
   "id": "f97f4556",
   "metadata": {},
   "source": [
    "**Ngoc Mai crawled data**"
   ]
  },
  {
   "cell_type": "code",
   "execution_count": 4,
   "id": "bfa739ee",
   "metadata": {},
   "outputs": [],
   "source": [
    "nm1 = pd.read_csv(r\"D:\\UIT\\DS200\\DS200_Project\\Dataset\\Raw Data\\User Videos\\NM\\fashion_beauty_videos_1.csv\")\n",
    "nm2 = pd.read_csv(r\"D:\\UIT\\DS200\\DS200_Project\\Dataset\\Raw Data\\User Videos\\NM\\fashion_beauty_videos_2.csv\")\n",
    "nm3 = pd.read_csv(r\"D:\\UIT\\DS200\\DS200_Project\\Dataset\\Raw Data\\User Videos\\NM\\fashion_beauty_videos_3.csv\")\n",
    "nm4 = pd.read_csv(r\"D:\\UIT\\DS200\\DS200_Project\\Dataset\\Raw Data\\User Videos\\NM\\fashion_beauty_videos_4.csv\")\n",
    "nm = pd.concat([nm1, nm2, nm3, nm4])\n",
    "\n",
    "nm_user_name = pd.read_csv(r\"D:\\UIT\\DS200\\DS200_Project\\Dataset\\Raw Data\\User name\\beauty_fashion.csv\")"
   ]
  },
  {
   "cell_type": "markdown",
   "id": "2a5225ad",
   "metadata": {},
   "source": [
    "**Merging data**"
   ]
  },
  {
   "cell_type": "code",
   "execution_count": 5,
   "id": "1fb9db52",
   "metadata": {},
   "outputs": [
    {
     "data": {
      "text/plain": [
       "439"
      ]
     },
     "execution_count": 5,
     "metadata": {},
     "output_type": "execute_result"
    }
   ],
   "source": [
    "total_user_name = pd.concat([hn_user_name, tp_user_name, nm_user_name])\n",
    "total_user_name.reset_index(inplace=True)\n",
    "total_user_name.drop(columns= ['index'], inplace = True)\n",
    "total_user_name = total_user_name.rename(columns= {'username':'user_name'})\n",
    "total_user_name.shape[0]"
   ]
  },
  {
   "cell_type": "code",
   "execution_count": 6,
   "id": "d1422041",
   "metadata": {},
   "outputs": [
    {
     "data": {
      "text/plain": [
       "43887"
      ]
     },
     "execution_count": 6,
     "metadata": {},
     "output_type": "execute_result"
    }
   ],
   "source": [
    "df = pd.concat([hn, tp, nm])\n",
    "df.reset_index(inplace = True)\n",
    "df.shape[0]"
   ]
  },
  {
   "cell_type": "markdown",
   "id": "d76c5f95",
   "metadata": {},
   "source": [
    "### **2. Lọc trùng các user_name**"
   ]
  },
  {
   "cell_type": "markdown",
   "id": "df3b9d2e",
   "metadata": {},
   "source": [
    "**Drop Duplicates**"
   ]
  },
  {
   "cell_type": "code",
   "execution_count": 7,
   "id": "2a388576",
   "metadata": {},
   "outputs": [],
   "source": [
    "total_user_name.drop_duplicates(inplace = True)"
   ]
  },
  {
   "cell_type": "markdown",
   "id": "b27dab9b",
   "metadata": {},
   "source": [
    "**Grouping topic**"
   ]
  },
  {
   "cell_type": "code",
   "execution_count": 8,
   "id": "3c95c206",
   "metadata": {},
   "outputs": [],
   "source": [
    "total_user_name = total_user_name.groupby('user_name')['topic'].agg(lambda x: list(set(x))).reset_index()"
   ]
  },
  {
   "cell_type": "code",
   "execution_count": 9,
   "id": "612a4fa1",
   "metadata": {},
   "outputs": [
    {
     "data": {
      "text/plain": [
       "392"
      ]
     },
     "execution_count": 9,
     "metadata": {},
     "output_type": "execute_result"
    }
   ],
   "source": [
    "total_user_name.shape[0]"
   ]
  },
  {
   "cell_type": "markdown",
   "id": "58c7fe28",
   "metadata": {},
   "source": [
    "### **3. Lọc các video không đủ yêu cầu về snapshot**"
   ]
  },
  {
   "cell_type": "markdown",
   "id": "6a7912ea",
   "metadata": {},
   "source": [
    "#### *Chuyển dữ liệu các cột thời gian thành dữ liệu datetime*"
   ]
  },
  {
   "cell_type": "code",
   "execution_count": 10,
   "id": "4484751a",
   "metadata": {},
   "outputs": [],
   "source": [
    "def convert_to_vietnam_time(utc_time):\n",
    "    from_zone = tz.tzutc()\n",
    "    to_zone = tz.gettz('Asia/Ho_Chi_Minh')\n",
    "    utc = pd.to_datetime(utc_time).replace(tzinfo=from_zone)\n",
    "    return utc.astimezone(to_zone)"
   ]
  },
  {
   "cell_type": "code",
   "execution_count": 11,
   "id": "f228ba64",
   "metadata": {},
   "outputs": [],
   "source": [
    "df['vid_postTime'] = df['vid_postTime'].apply(convert_to_vietnam_time)\n",
    "df['vid_scrapeTime'] = df['vid_scrapeTime'].apply(convert_to_vietnam_time)"
   ]
  },
  {
   "cell_type": "markdown",
   "id": "c3d36b34",
   "metadata": {},
   "source": [
    "#### *Sắp xếp các  dòng dữ liệu theo từng vid_id*"
   ]
  },
  {
   "cell_type": "code",
   "execution_count": 12,
   "id": "d58489ae",
   "metadata": {},
   "outputs": [],
   "source": [
    "df.sort_values(['user_name', 'vid_id', 'vid_scrapeTime'], ascending=True, inplace=True)"
   ]
  },
  {
   "cell_type": "markdown",
   "id": "25b36433",
   "metadata": {},
   "source": [
    "#### *Lọc dòng dữ liệu trùng*"
   ]
  },
  {
   "cell_type": "code",
   "execution_count": 13,
   "id": "57977f22",
   "metadata": {},
   "outputs": [
    {
     "data": {
      "text/plain": [
       "43887"
      ]
     },
     "execution_count": 13,
     "metadata": {},
     "output_type": "execute_result"
    }
   ],
   "source": [
    "df.shape[0]"
   ]
  },
  {
   "cell_type": "code",
   "execution_count": 14,
   "id": "bf970349",
   "metadata": {},
   "outputs": [
    {
     "data": {
      "text/plain": [
       "43887"
      ]
     },
     "execution_count": 14,
     "metadata": {},
     "output_type": "execute_result"
    }
   ],
   "source": [
    "df.drop_duplicates(inplace = True)\n",
    "df.reset_index(inplace = True)\n",
    "df.shape[0]"
   ]
  },
  {
   "cell_type": "markdown",
   "id": "500e36f9",
   "metadata": {},
   "source": [
    "#### *Số lượng sample của mỗi lượng snapshot*"
   ]
  },
  {
   "cell_type": "code",
   "execution_count": 15,
   "id": "287c8eb1",
   "metadata": {},
   "outputs": [
    {
     "data": {
      "text/plain": [
       "snapshot_counts\n",
       "1      2656\n",
       "2      3916\n",
       "3      5211\n",
       "4     26188\n",
       "5      1480\n",
       "6       522\n",
       "7       420\n",
       "8      2536\n",
       "9       738\n",
       "11      220\n",
       "Name: count, dtype: int64"
      ]
     },
     "execution_count": 15,
     "metadata": {},
     "output_type": "execute_result"
    }
   ],
   "source": [
    "# Đếm số snapshot của mỗi video\n",
    "video_counts = df.groupby('vid_id').size().reset_index(name='snapshot_counts')\n",
    "\n",
    "# Merge lại để kiểm tra rõ ràng\n",
    "df_with_count = df.merge(video_counts, on='vid_id')\n",
    "\n",
    "# Kiểm tra phân phối\n",
    "df_with_count['snapshot_counts'].value_counts().sort_index()"
   ]
  },
  {
   "cell_type": "markdown",
   "id": "31513273",
   "metadata": {},
   "source": [
    "#### *Xóa các video chỉ có 1-2 snapshot*"
   ]
  },
  {
   "cell_type": "code",
   "execution_count": 16,
   "id": "2196bf89",
   "metadata": {},
   "outputs": [
    {
     "name": "stdout",
     "output_type": "stream",
     "text": [
      "Tổng số lượng sample:  43887\n",
      "Số sample của video có ít hơn 2 snapshot:  4614\n",
      "Số sample của video có đủ 4 snapshot:  26188\n",
      "Số sample của video có 3 snapshot:  5211\n",
      "Số sample của video có nhiều hơn 5 snapshot:  5916\n"
     ]
    }
   ],
   "source": [
    "# Đếm số mốc thời gian của mỗi video\n",
    "video_counts = df.groupby(['user_name', 'vid_id'])['vid_scrapeTime'].count().reset_index()\n",
    "video_counts = video_counts.rename(columns={'vid_scrapeTime': 'snapshot_count'})\n",
    "\n",
    "# Lọc các video chỉ có 1-2 snapshot\n",
    "invalid_videos = video_counts[video_counts['snapshot_count'] <= 2]\n",
    "\n",
    "# Các video có đủ 4 snapshot \n",
    "valid_videos = video_counts[video_counts['snapshot_count'] == 4]\n",
    "valid_data = df.merge(valid_videos[['user_name', 'vid_id']], on=['user_name', 'vid_id'], how='inner')\n",
    "\n",
    "# Các video chỉ có 3 snapshot \n",
    "snapshot_3 = video_counts[video_counts['snapshot_count'] == 3]\n",
    "snapshot_3 = df.merge(snapshot_3[['user_name', 'vid_id']], on=['user_name', 'vid_id'], how='inner')\n",
    "\n",
    "# Các video có từ 5 snapshot trở lên \n",
    "morethan_5_snapshot = video_counts[video_counts['snapshot_count'] >= 5]\n",
    "morethan_5_snapshot = df.merge(morethan_5_snapshot[['user_name', 'vid_id']], on=['user_name', 'vid_id'], how='inner')\n",
    "\n",
    "# Reset index và drop các cột dư thừa \n",
    "valid_data.drop(columns = ['level_0', 'index'], inplace = True)\n",
    "snapshot_3.drop(columns = ['level_0', 'index'], inplace = True)\n",
    "\n",
    "\n",
    "# In ra số lượng sample của mối loại dữ liệu \n",
    "print(\"Tổng số lượng sample: \", df.shape[0])\n",
    "print(\"Số sample của video có ít hơn 2 snapshot: \", invalid_videos.shape[0])\n",
    "print(\"Số sample của video có đủ 4 snapshot: \", valid_data.shape[0])\n",
    "print(\"Số sample của video có 3 snapshot: \", snapshot_3.shape[0])\n",
    "print(\"Số sample của video có nhiều hơn 5 snapshot: \", morethan_5_snapshot.shape[0])"
   ]
  },
  {
   "cell_type": "markdown",
   "id": "72f5dfcd",
   "metadata": {},
   "source": [
    "### **4. Lọc các snapshot có khoảng cách thời gian quá gần**"
   ]
  },
  {
   "cell_type": "markdown",
   "id": "343b52b5",
   "metadata": {},
   "source": [
    "#### *Hàm trích xuất khoảng thời gian giữa các video*"
   ]
  },
  {
   "cell_type": "code",
   "execution_count": 17,
   "id": "f8e524a0",
   "metadata": {},
   "outputs": [],
   "source": [
    "from datetime import timedelta\n",
    "\n",
    "def select_latest_4_snapshots(df):\n",
    "    filtered_dfs = []\n",
    "\n",
    "    # Đảm bảo datetime đúng\n",
    "    df = df.sort_values(['vid_id', 'vid_scrapeTime'], ascending=[True, False])\n",
    "\n",
    "    for vid_id, group in df.groupby('vid_id'):\n",
    "        selected = []\n",
    "        used_times = []\n",
    "\n",
    "        for _, row in group.iterrows():\n",
    "            current_time = row['vid_scrapeTime']\n",
    "\n",
    "            # Nếu chưa chọn snapshot nào, chọn snapshot đầu tiên\n",
    "            if not used_times:\n",
    "                selected.append(row)\n",
    "                used_times.append(current_time)\n",
    "            else:\n",
    "                # Kiểm tra thời gian tối thiểu 1 ngày với các snapshot đã chọn\n",
    "                if all(abs((current_time - prev_time).days) >= 1 for prev_time in used_times):\n",
    "                    selected.append(row)\n",
    "                    used_times.append(current_time)\n",
    "\n",
    "            # Nếu đã đủ 4 snapshot, dừng\n",
    "            if len(selected) == 4:\n",
    "                break\n",
    "\n",
    "        if selected:\n",
    "            filtered_dfs.append(pd.DataFrame(selected))\n",
    "\n",
    "    return pd.concat(filtered_dfs, ignore_index=True)\n"
   ]
  },
  {
   "cell_type": "code",
   "execution_count": 18,
   "id": "ee5c5938",
   "metadata": {},
   "outputs": [
    {
     "data": {
      "text/plain": [
       "3448"
      ]
     },
     "execution_count": 18,
     "metadata": {},
     "output_type": "execute_result"
    }
   ],
   "source": [
    "filtered_morethan_5_snapshot = select_latest_4_snapshots(morethan_5_snapshot)\n",
    "filtered_morethan_5_snapshot.sort_values(['vid_id', 'vid_scrapeTime'], ascending=True, inplace=True)\n",
    "filtered_morethan_5_snapshot.drop(columns = ['level_0', 'index'], inplace = True)\n",
    "filtered_morethan_5_snapshot.shape[0]"
   ]
  },
  {
   "cell_type": "markdown",
   "id": "e5a1d323",
   "metadata": {},
   "source": [
    "#### *Gộp các sample tiêu chuẩn - đủ 4 snapshot*"
   ]
  },
  {
   "cell_type": "code",
   "execution_count": 19,
   "id": "f338c5f6",
   "metadata": {},
   "outputs": [
    {
     "data": {
      "text/plain": [
       "29636"
      ]
     },
     "execution_count": 19,
     "metadata": {},
     "output_type": "execute_result"
    }
   ],
   "source": [
    "valid_data  = pd.concat([valid_data, filtered_morethan_5_snapshot])\n",
    "valid_data.sort_values(['vid_id', 'vid_scrapeTime'], ascending=True, inplace=True)\n",
    "valid_data.reset_index(inplace=True)\n",
    "valid_data.drop(columns=['index'], inplace=True)\n",
    "valid_data.shape[0]"
   ]
  },
  {
   "cell_type": "markdown",
   "id": "66d2e4c9",
   "metadata": {},
   "source": [
    "### **5. Lọc các user_name unique**"
   ]
  },
  {
   "cell_type": "code",
   "execution_count": 20,
   "id": "bf19513b",
   "metadata": {},
   "outputs": [
    {
     "data": {
      "text/plain": [
       "372"
      ]
     },
     "execution_count": 20,
     "metadata": {},
     "output_type": "execute_result"
    }
   ],
   "source": [
    "unique_user_name = total_user_name[total_user_name['user_name'].isin(valid_data['user_name'].unique())]\n",
    "unique_user_name.shape[0]"
   ]
  },
  {
   "cell_type": "markdown",
   "id": "fe8aad6e",
   "metadata": {},
   "source": [
    "**Merge topic vào valid_data**"
   ]
  },
  {
   "cell_type": "code",
   "execution_count": 21,
   "id": "5dc1f89e",
   "metadata": {},
   "outputs": [],
   "source": [
    "valid_data = valid_data.merge(unique_user_name, on=['user_name'], how='left')"
   ]
  },
  {
   "cell_type": "code",
   "execution_count": 22,
   "id": "b2507d97",
   "metadata": {},
   "outputs": [],
   "source": [
    "snapshot_3 = snapshot_3.merge(unique_user_name, on=['user_name'], how='left')"
   ]
  },
  {
   "cell_type": "markdown",
   "id": "e186bfcc",
   "metadata": {},
   "source": [
    "### **6. Lưu các file data**"
   ]
  },
  {
   "cell_type": "code",
   "execution_count": 24,
   "id": "c9ceed78",
   "metadata": {},
   "outputs": [],
   "source": [
    "valid_data.to_csv(r\"D:\\UIT\\DS200\\DS200_Project\\Dataset\\Raw_Data\\Merged_Data\\training_data.csv\")\n",
    "snapshot_3.to_csv(r\"D:\\UIT\\DS200\\DS200_Project\\Dataset\\Raw_Data\\Merged_Data\\streaming_data.csv\")\n",
    "unique_user_name.to_csv(r\"D:\\UIT\\DS200\\DS200_Project\\Dataset\\Raw_Data\\Merged_Data\\total_user_name.csv\")"
   ]
  },
  {
   "cell_type": "code",
   "execution_count": 25,
   "id": "03830fcc",
   "metadata": {},
   "outputs": [
    {
     "data": {
      "text/plain": [
       "5114"
      ]
     },
     "execution_count": 25,
     "metadata": {},
     "output_type": "execute_result"
    }
   ],
   "source": [
    "import pandas as pd\n",
    "\n",
    "df = pd.read_excel(r\"D:\\UIT\\DS200\\DS200_Project\\Dataset\\Raw_Data\\Merged_Data\\streaming_data.xlsx\")\n",
    "df.shape[0]"
   ]
  },
  {
   "cell_type": "code",
   "execution_count": 26,
   "id": "466bf7b3",
   "metadata": {},
   "outputs": [
    {
     "data": {
      "text/html": [
       "<div>\n",
       "<style scoped>\n",
       "    .dataframe tbody tr th:only-of-type {\n",
       "        vertical-align: middle;\n",
       "    }\n",
       "\n",
       "    .dataframe tbody tr th {\n",
       "        vertical-align: top;\n",
       "    }\n",
       "\n",
       "    .dataframe thead th {\n",
       "        text-align: right;\n",
       "    }\n",
       "</style>\n",
       "<table border=\"1\" class=\"dataframe\">\n",
       "  <thead>\n",
       "    <tr style=\"text-align: right;\">\n",
       "      <th></th>\n",
       "      <th>user_name</th>\n",
       "      <th>user_nfollower</th>\n",
       "      <th>user_total_likes</th>\n",
       "      <th>vid_id</th>\n",
       "      <th>vid_caption</th>\n",
       "      <th>vid_postTime</th>\n",
       "      <th>vid_scrapeTime</th>\n",
       "      <th>vid_duration</th>\n",
       "      <th>vid_nview</th>\n",
       "      <th>vid_nlike</th>\n",
       "      <th>...</th>\n",
       "      <th>vid_nshare</th>\n",
       "      <th>vid_nsave</th>\n",
       "      <th>vid_hashtags</th>\n",
       "      <th>vid_url</th>\n",
       "      <th>music_id</th>\n",
       "      <th>music_title</th>\n",
       "      <th>music_nused</th>\n",
       "      <th>music_authorName</th>\n",
       "      <th>music_originality</th>\n",
       "      <th>topic</th>\n",
       "    </tr>\n",
       "  </thead>\n",
       "  <tbody>\n",
       "    <tr>\n",
       "      <th>0</th>\n",
       "      <td>2chijbell</td>\n",
       "      <td>45.9K</td>\n",
       "      <td>826.8K</td>\n",
       "      <td>7520120196040854528</td>\n",
       "      <td>Thử đi mấy bà, khác hẳn style thường ngày của ...</td>\n",
       "      <td>2025-06-26 12:07:05+07:00</td>\n",
       "      <td>2025-06-28 01:36:22+07:00</td>\n",
       "      <td>00:15</td>\n",
       "      <td>1.2M</td>\n",
       "      <td>22.2K</td>\n",
       "      <td>...</td>\n",
       "      <td>269</td>\n",
       "      <td>771</td>\n",
       "      <td>ootd, viral, 2chijbell</td>\n",
       "      <td>https://www.tiktok.com/@2chijbell/video/752012...</td>\n",
       "      <td>7.507971e+18</td>\n",
       "      <td>nhạc nền - 𝙋𝙧𝙚𝙨𝙨𝙤𝙪𝙣𝙙</td>\n",
       "      <td>15.2K videos</td>\n",
       "      <td>𝙋𝙧𝙚𝙨𝙨𝙤𝙪𝙣𝙙</td>\n",
       "      <td>0</td>\n",
       "      <td>['Fashion']</td>\n",
       "    </tr>\n",
       "    <tr>\n",
       "      <th>1</th>\n",
       "      <td>2chijbell</td>\n",
       "      <td>47.2K</td>\n",
       "      <td>856.4K</td>\n",
       "      <td>7520120196040854528</td>\n",
       "      <td>Thử đi mấy bà, khác hẳn style thường ngày của ...</td>\n",
       "      <td>2025-06-26 12:07:05+07:00</td>\n",
       "      <td>2025-06-29 23:04:27+07:00</td>\n",
       "      <td>00:15</td>\n",
       "      <td>1.7M</td>\n",
       "      <td>31.4K</td>\n",
       "      <td>...</td>\n",
       "      <td>379</td>\n",
       "      <td>1083</td>\n",
       "      <td>ootd, viral, 2chijbell</td>\n",
       "      <td>https://www.tiktok.com/@2chijbell/video/752012...</td>\n",
       "      <td>7.507971e+18</td>\n",
       "      <td>nhạc nền - 𝙋𝙧𝙚𝙨𝙨𝙤𝙪𝙣𝙙</td>\n",
       "      <td>16.1K videos</td>\n",
       "      <td>𝙋𝙧𝙚𝙨𝙨𝙤𝙪𝙣𝙙</td>\n",
       "      <td>0</td>\n",
       "      <td>['Fashion']</td>\n",
       "    </tr>\n",
       "    <tr>\n",
       "      <th>2</th>\n",
       "      <td>2chijbell</td>\n",
       "      <td>47.7K</td>\n",
       "      <td>866.4K</td>\n",
       "      <td>7520120196040854528</td>\n",
       "      <td>Thử đi mấy bà, khác hẳn style thường ngày của ...</td>\n",
       "      <td>2025-06-26 12:07:05+07:00</td>\n",
       "      <td>2025-07-01 07:14:48+07:00</td>\n",
       "      <td>00:15</td>\n",
       "      <td>1.8M</td>\n",
       "      <td>32.4K</td>\n",
       "      <td>...</td>\n",
       "      <td>401</td>\n",
       "      <td>1108</td>\n",
       "      <td>ootd, viral, 2chijbell</td>\n",
       "      <td>https://www.tiktok.com/@2chijbell/video/752012...</td>\n",
       "      <td>7.507971e+18</td>\n",
       "      <td>nhạc nền - 𝙋𝙧𝙚𝙨𝙨𝙤𝙪𝙣𝙙</td>\n",
       "      <td>16.9K videos</td>\n",
       "      <td>𝙋𝙧𝙚𝙨𝙨𝙤𝙪𝙣𝙙</td>\n",
       "      <td>0</td>\n",
       "      <td>['Fashion']</td>\n",
       "    </tr>\n",
       "  </tbody>\n",
       "</table>\n",
       "<p>3 rows × 21 columns</p>\n",
       "</div>"
      ],
      "text/plain": [
       "   user_name user_nfollower user_total_likes               vid_id  \\\n",
       "0  2chijbell          45.9K           826.8K  7520120196040854528   \n",
       "1  2chijbell          47.2K           856.4K  7520120196040854528   \n",
       "2  2chijbell          47.7K           866.4K  7520120196040854528   \n",
       "\n",
       "                                         vid_caption  \\\n",
       "0  Thử đi mấy bà, khác hẳn style thường ngày của ...   \n",
       "1  Thử đi mấy bà, khác hẳn style thường ngày của ...   \n",
       "2  Thử đi mấy bà, khác hẳn style thường ngày của ...   \n",
       "\n",
       "                vid_postTime             vid_scrapeTime vid_duration  \\\n",
       "0  2025-06-26 12:07:05+07:00  2025-06-28 01:36:22+07:00        00:15   \n",
       "1  2025-06-26 12:07:05+07:00  2025-06-29 23:04:27+07:00        00:15   \n",
       "2  2025-06-26 12:07:05+07:00  2025-07-01 07:14:48+07:00        00:15   \n",
       "\n",
       "  vid_nview vid_nlike  ...  vid_nshare vid_nsave            vid_hashtags  \\\n",
       "0      1.2M     22.2K  ...         269       771  ootd, viral, 2chijbell   \n",
       "1      1.7M     31.4K  ...         379      1083  ootd, viral, 2chijbell   \n",
       "2      1.8M     32.4K  ...         401      1108  ootd, viral, 2chijbell   \n",
       "\n",
       "                                             vid_url      music_id  \\\n",
       "0  https://www.tiktok.com/@2chijbell/video/752012...  7.507971e+18   \n",
       "1  https://www.tiktok.com/@2chijbell/video/752012...  7.507971e+18   \n",
       "2  https://www.tiktok.com/@2chijbell/video/752012...  7.507971e+18   \n",
       "\n",
       "            music_title   music_nused music_authorName music_originality  \\\n",
       "0  nhạc nền - 𝙋𝙧𝙚𝙨𝙨𝙤𝙪𝙣𝙙  15.2K videos        𝙋𝙧𝙚𝙨𝙨𝙤𝙪𝙣𝙙                 0   \n",
       "1  nhạc nền - 𝙋𝙧𝙚𝙨𝙨𝙤𝙪𝙣𝙙  16.1K videos        𝙋𝙧𝙚𝙨𝙨𝙤𝙪𝙣𝙙                 0   \n",
       "2  nhạc nền - 𝙋𝙧𝙚𝙨𝙨𝙤𝙪𝙣𝙙  16.9K videos        𝙋𝙧𝙚𝙨𝙨𝙤𝙪𝙣𝙙                 0   \n",
       "\n",
       "         topic  \n",
       "0  ['Fashion']  \n",
       "1  ['Fashion']  \n",
       "2  ['Fashion']  \n",
       "\n",
       "[3 rows x 21 columns]"
      ]
     },
     "execution_count": 26,
     "metadata": {},
     "output_type": "execute_result"
    }
   ],
   "source": [
    "df.head(3)"
   ]
  },
  {
   "cell_type": "code",
   "execution_count": 4,
   "id": "0651b61e",
   "metadata": {},
   "outputs": [
    {
     "data": {
      "text/plain": [
       "5178"
      ]
     },
     "execution_count": 4,
     "metadata": {},
     "output_type": "execute_result"
    }
   ],
   "source": [
    "df.drop_duplicates(subset=['vid_scrapeTime'], inplace=True)\n",
    "df.shape[0]"
   ]
  },
  {
   "cell_type": "code",
   "execution_count": null,
   "id": "34cd0a63",
   "metadata": {},
   "outputs": [],
   "source": [
    "df.sort_values(['user_name', 'vid_id', 'vid_scrapeTime'], inplace=True)\n",
    "df.reset_index(drop=True)"
   ]
  },
  {
   "cell_type": "code",
   "execution_count": 9,
   "id": "5ead9afa",
   "metadata": {},
   "outputs": [],
   "source": [
    "df.reset_index(inplace=True)"
   ]
  },
  {
   "cell_type": "code",
   "execution_count": null,
   "id": "ec90e64e",
   "metadata": {},
   "outputs": [],
   "source": [
    "df.drop(columns='index', inplace=True)\n",
    "df.head(3)"
   ]
  },
  {
   "cell_type": "code",
   "execution_count": 28,
   "id": "2eb77a73",
   "metadata": {},
   "outputs": [],
   "source": [
    "df.to_csv(r\"D:\\UIT\\DS200\\DS200_Project\\Dataset\\Raw_Data\\Merged_Data\\streaming_data.csv\", index = False)\n",
    "# df.to_excel(r\"D:\\UIT\\DS200\\DS200_Project\\Dataset\\Raw_Data\\Merged_Data\\streaming_data.xlsx\", index = False)\n"
   ]
  },
  {
   "cell_type": "code",
   "execution_count": null,
   "id": "144c5d57",
   "metadata": {},
   "outputs": [],
   "source": [
    "total_user_name = pd.read_csv(r\"D:\\UIT\\DS200\\DS200_Project\\Dataset\\Raw_Data\\Merged_Data\\total_user_name.csv\")\n"
   ]
  },
  {
   "cell_type": "code",
   "execution_count": 17,
   "id": "8721d967",
   "metadata": {},
   "outputs": [
    {
     "data": {
      "text/html": [
       "<div>\n",
       "<style scoped>\n",
       "    .dataframe tbody tr th:only-of-type {\n",
       "        vertical-align: middle;\n",
       "    }\n",
       "\n",
       "    .dataframe tbody tr th {\n",
       "        vertical-align: top;\n",
       "    }\n",
       "\n",
       "    .dataframe thead th {\n",
       "        text-align: right;\n",
       "    }\n",
       "</style>\n",
       "<table border=\"1\" class=\"dataframe\">\n",
       "  <thead>\n",
       "    <tr style=\"text-align: right;\">\n",
       "      <th></th>\n",
       "      <th>user_name</th>\n",
       "      <th>topic</th>\n",
       "    </tr>\n",
       "  </thead>\n",
       "  <tbody>\n",
       "    <tr>\n",
       "      <th>0</th>\n",
       "      <td>2chijbell</td>\n",
       "      <td>['Fashion']</td>\n",
       "    </tr>\n",
       "    <tr>\n",
       "      <th>1</th>\n",
       "      <td>_babymelrz</td>\n",
       "      <td>['Beauty']</td>\n",
       "    </tr>\n",
       "    <tr>\n",
       "      <th>2</th>\n",
       "      <td>_bbhk18</td>\n",
       "      <td>['Fashion']</td>\n",
       "    </tr>\n",
       "    <tr>\n",
       "      <th>3</th>\n",
       "      <td>_chau.ank_</td>\n",
       "      <td>['Beauty']</td>\n",
       "    </tr>\n",
       "    <tr>\n",
       "      <th>4</th>\n",
       "      <td>_halinhtran_</td>\n",
       "      <td>['Beauty']</td>\n",
       "    </tr>\n",
       "  </tbody>\n",
       "</table>\n",
       "</div>"
      ],
      "text/plain": [
       "      user_name        topic\n",
       "0     2chijbell  ['Fashion']\n",
       "1    _babymelrz   ['Beauty']\n",
       "2       _bbhk18  ['Fashion']\n",
       "3    _chau.ank_   ['Beauty']\n",
       "4  _halinhtran_   ['Beauty']"
      ]
     },
     "execution_count": 17,
     "metadata": {},
     "output_type": "execute_result"
    }
   ],
   "source": [
    "total_user_name.head(5)\n",
    "# total_user_name.drop(columns=['Unnamed: 0'], inplace=True)"
   ]
  },
  {
   "cell_type": "code",
   "execution_count": 21,
   "id": "e55d0ce7",
   "metadata": {},
   "outputs": [],
   "source": [
    "df = df.merge(total_user_name, on=['user_name'], how='left')"
   ]
  },
  {
   "cell_type": "code",
   "execution_count": 22,
   "id": "fcdf94c5",
   "metadata": {},
   "outputs": [
    {
     "data": {
      "text/html": [
       "<div>\n",
       "<style scoped>\n",
       "    .dataframe tbody tr th:only-of-type {\n",
       "        vertical-align: middle;\n",
       "    }\n",
       "\n",
       "    .dataframe tbody tr th {\n",
       "        vertical-align: top;\n",
       "    }\n",
       "\n",
       "    .dataframe thead th {\n",
       "        text-align: right;\n",
       "    }\n",
       "</style>\n",
       "<table border=\"1\" class=\"dataframe\">\n",
       "  <thead>\n",
       "    <tr style=\"text-align: right;\">\n",
       "      <th></th>\n",
       "      <th>user_name</th>\n",
       "      <th>user_nfollower</th>\n",
       "      <th>user_total_likes</th>\n",
       "      <th>vid_id</th>\n",
       "      <th>vid_caption</th>\n",
       "      <th>vid_postTime</th>\n",
       "      <th>vid_scrapeTime</th>\n",
       "      <th>vid_duration</th>\n",
       "      <th>vid_nview</th>\n",
       "      <th>vid_nlike</th>\n",
       "      <th>...</th>\n",
       "      <th>vid_nshare</th>\n",
       "      <th>vid_nsave</th>\n",
       "      <th>vid_hashtags</th>\n",
       "      <th>vid_url</th>\n",
       "      <th>music_id</th>\n",
       "      <th>music_title</th>\n",
       "      <th>music_nused</th>\n",
       "      <th>music_authorName</th>\n",
       "      <th>music_originality</th>\n",
       "      <th>topic</th>\n",
       "    </tr>\n",
       "  </thead>\n",
       "  <tbody>\n",
       "    <tr>\n",
       "      <th>0</th>\n",
       "      <td>2chijbell</td>\n",
       "      <td>45.9K</td>\n",
       "      <td>826.8K</td>\n",
       "      <td>7520120196040854528</td>\n",
       "      <td>Thử đi mấy bà, khác hẳn style thường ngày của ...</td>\n",
       "      <td>2025-06-26 12:07:05+07:00</td>\n",
       "      <td>2025-06-28 01:36:22+07:00</td>\n",
       "      <td>00:15</td>\n",
       "      <td>1.2M</td>\n",
       "      <td>22.2K</td>\n",
       "      <td>...</td>\n",
       "      <td>269</td>\n",
       "      <td>771</td>\n",
       "      <td>ootd, viral, 2chijbell</td>\n",
       "      <td>https://www.tiktok.com/@2chijbell/video/752012...</td>\n",
       "      <td>7.507971e+18</td>\n",
       "      <td>nhạc nền - 𝙋𝙧𝙚𝙨𝙨𝙤𝙪𝙣𝙙</td>\n",
       "      <td>15.2K videos</td>\n",
       "      <td>𝙋𝙧𝙚𝙨𝙨𝙤𝙪𝙣𝙙</td>\n",
       "      <td>0.0</td>\n",
       "      <td>['Fashion']</td>\n",
       "    </tr>\n",
       "    <tr>\n",
       "      <th>1</th>\n",
       "      <td>2chijbell</td>\n",
       "      <td>47.2K</td>\n",
       "      <td>856.4K</td>\n",
       "      <td>7520120196040854528</td>\n",
       "      <td>Thử đi mấy bà, khác hẳn style thường ngày của ...</td>\n",
       "      <td>2025-06-26 12:07:05+07:00</td>\n",
       "      <td>2025-06-29 23:04:27+07:00</td>\n",
       "      <td>00:15</td>\n",
       "      <td>1.7M</td>\n",
       "      <td>31.4K</td>\n",
       "      <td>...</td>\n",
       "      <td>379</td>\n",
       "      <td>1083</td>\n",
       "      <td>ootd, viral, 2chijbell</td>\n",
       "      <td>https://www.tiktok.com/@2chijbell/video/752012...</td>\n",
       "      <td>7.507971e+18</td>\n",
       "      <td>nhạc nền - 𝙋𝙧𝙚𝙨𝙨𝙤𝙪𝙣𝙙</td>\n",
       "      <td>16.1K videos</td>\n",
       "      <td>𝙋𝙧𝙚𝙨𝙨𝙤𝙪𝙣𝙙</td>\n",
       "      <td>0.0</td>\n",
       "      <td>['Fashion']</td>\n",
       "    </tr>\n",
       "    <tr>\n",
       "      <th>2</th>\n",
       "      <td>2chijbell</td>\n",
       "      <td>47.7K</td>\n",
       "      <td>866.4K</td>\n",
       "      <td>7520120196040854528</td>\n",
       "      <td>Thử đi mấy bà, khác hẳn style thường ngày của ...</td>\n",
       "      <td>2025-06-26 12:07:05+07:00</td>\n",
       "      <td>2025-07-01 07:14:48+07:00</td>\n",
       "      <td>00:15</td>\n",
       "      <td>1.8M</td>\n",
       "      <td>32.4K</td>\n",
       "      <td>...</td>\n",
       "      <td>401</td>\n",
       "      <td>1108</td>\n",
       "      <td>ootd, viral, 2chijbell</td>\n",
       "      <td>https://www.tiktok.com/@2chijbell/video/752012...</td>\n",
       "      <td>7.507971e+18</td>\n",
       "      <td>NaN</td>\n",
       "      <td>NaN</td>\n",
       "      <td>NaN</td>\n",
       "      <td>0.0</td>\n",
       "      <td>['Fashion']</td>\n",
       "    </tr>\n",
       "    <tr>\n",
       "      <th>3</th>\n",
       "      <td>2chijbell</td>\n",
       "      <td>45.9K</td>\n",
       "      <td>826.8K</td>\n",
       "      <td>7520243736245242880</td>\n",
       "      <td>Tốp 1 em áo phải có trong tủ đồ mấy bà uii</td>\n",
       "      <td>2025-06-26 20:06:29+07:00</td>\n",
       "      <td>2025-06-28 01:36:06+07:00</td>\n",
       "      <td>00:12</td>\n",
       "      <td>11.3K</td>\n",
       "      <td>283</td>\n",
       "      <td>...</td>\n",
       "      <td>8</td>\n",
       "      <td>15</td>\n",
       "      <td>ootd, viral, 2chijbell</td>\n",
       "      <td>https://www.tiktok.com/@2chijbell/video/752024...</td>\n",
       "      <td>7.484144e+18</td>\n",
       "      <td>tien dat</td>\n",
       "      <td>6083 videos</td>\n",
       "      <td>tien dat</td>\n",
       "      <td>0.0</td>\n",
       "      <td>['Fashion']</td>\n",
       "    </tr>\n",
       "    <tr>\n",
       "      <th>4</th>\n",
       "      <td>2chijbell</td>\n",
       "      <td>47.2K</td>\n",
       "      <td>856.4K</td>\n",
       "      <td>7520243736245242880</td>\n",
       "      <td>Tốp 1 em áo phải có trong tủ đồ mấy bà uii</td>\n",
       "      <td>2025-06-26 20:06:29+07:00</td>\n",
       "      <td>2025-06-29 23:04:02+07:00</td>\n",
       "      <td>00:12</td>\n",
       "      <td>16.5K</td>\n",
       "      <td>337</td>\n",
       "      <td>...</td>\n",
       "      <td>15</td>\n",
       "      <td>21</td>\n",
       "      <td>ootd, viral, 2chijbell</td>\n",
       "      <td>https://www.tiktok.com/@2chijbell/video/752024...</td>\n",
       "      <td>7.484144e+18</td>\n",
       "      <td>tien dat</td>\n",
       "      <td>6093 videos</td>\n",
       "      <td>tien dat</td>\n",
       "      <td>0.0</td>\n",
       "      <td>['Fashion']</td>\n",
       "    </tr>\n",
       "  </tbody>\n",
       "</table>\n",
       "<p>5 rows × 21 columns</p>\n",
       "</div>"
      ],
      "text/plain": [
       "   user_name user_nfollower user_total_likes               vid_id  \\\n",
       "0  2chijbell          45.9K           826.8K  7520120196040854528   \n",
       "1  2chijbell          47.2K           856.4K  7520120196040854528   \n",
       "2  2chijbell          47.7K           866.4K  7520120196040854528   \n",
       "3  2chijbell          45.9K           826.8K  7520243736245242880   \n",
       "4  2chijbell          47.2K           856.4K  7520243736245242880   \n",
       "\n",
       "                                         vid_caption  \\\n",
       "0  Thử đi mấy bà, khác hẳn style thường ngày của ...   \n",
       "1  Thử đi mấy bà, khác hẳn style thường ngày của ...   \n",
       "2  Thử đi mấy bà, khác hẳn style thường ngày của ...   \n",
       "3         Tốp 1 em áo phải có trong tủ đồ mấy bà uii   \n",
       "4         Tốp 1 em áo phải có trong tủ đồ mấy bà uii   \n",
       "\n",
       "                vid_postTime             vid_scrapeTime vid_duration  \\\n",
       "0  2025-06-26 12:07:05+07:00  2025-06-28 01:36:22+07:00        00:15   \n",
       "1  2025-06-26 12:07:05+07:00  2025-06-29 23:04:27+07:00        00:15   \n",
       "2  2025-06-26 12:07:05+07:00  2025-07-01 07:14:48+07:00        00:15   \n",
       "3  2025-06-26 20:06:29+07:00  2025-06-28 01:36:06+07:00        00:12   \n",
       "4  2025-06-26 20:06:29+07:00  2025-06-29 23:04:02+07:00        00:12   \n",
       "\n",
       "  vid_nview vid_nlike  ...  vid_nshare vid_nsave            vid_hashtags  \\\n",
       "0      1.2M     22.2K  ...         269       771  ootd, viral, 2chijbell   \n",
       "1      1.7M     31.4K  ...         379      1083  ootd, viral, 2chijbell   \n",
       "2      1.8M     32.4K  ...         401      1108  ootd, viral, 2chijbell   \n",
       "3     11.3K       283  ...           8        15  ootd, viral, 2chijbell   \n",
       "4     16.5K       337  ...          15        21  ootd, viral, 2chijbell   \n",
       "\n",
       "                                             vid_url      music_id  \\\n",
       "0  https://www.tiktok.com/@2chijbell/video/752012...  7.507971e+18   \n",
       "1  https://www.tiktok.com/@2chijbell/video/752012...  7.507971e+18   \n",
       "2  https://www.tiktok.com/@2chijbell/video/752012...  7.507971e+18   \n",
       "3  https://www.tiktok.com/@2chijbell/video/752024...  7.484144e+18   \n",
       "4  https://www.tiktok.com/@2chijbell/video/752024...  7.484144e+18   \n",
       "\n",
       "            music_title   music_nused music_authorName music_originality  \\\n",
       "0  nhạc nền - 𝙋𝙧𝙚𝙨𝙨𝙤𝙪𝙣𝙙  15.2K videos        𝙋𝙧𝙚𝙨𝙨𝙤𝙪𝙣𝙙               0.0   \n",
       "1  nhạc nền - 𝙋𝙧𝙚𝙨𝙨𝙤𝙪𝙣𝙙  16.1K videos        𝙋𝙧𝙚𝙨𝙨𝙤𝙪𝙣𝙙               0.0   \n",
       "2                   NaN           NaN              NaN               0.0   \n",
       "3              tien dat   6083 videos         tien dat               0.0   \n",
       "4              tien dat   6093 videos         tien dat               0.0   \n",
       "\n",
       "         topic  \n",
       "0  ['Fashion']  \n",
       "1  ['Fashion']  \n",
       "2  ['Fashion']  \n",
       "3  ['Fashion']  \n",
       "4  ['Fashion']  \n",
       "\n",
       "[5 rows x 21 columns]"
      ]
     },
     "execution_count": 22,
     "metadata": {},
     "output_type": "execute_result"
    }
   ],
   "source": [
    "df.head(5)"
   ]
  },
  {
   "cell_type": "code",
   "execution_count": 20,
   "id": "489697a2",
   "metadata": {},
   "outputs": [],
   "source": [
    "df.drop(columns=['topic_x', 'topic_y'], inplace=True)"
   ]
  },
  {
   "cell_type": "code",
   "execution_count": 23,
   "id": "b4b34eaf",
   "metadata": {},
   "outputs": [
    {
     "data": {
      "text/plain": [
       "451"
      ]
     },
     "execution_count": 23,
     "metadata": {},
     "output_type": "execute_result"
    }
   ],
   "source": [
    "df['topic'].isna().sum()"
   ]
  },
  {
   "cell_type": "code",
   "execution_count": null,
   "id": "6d922cff",
   "metadata": {},
   "outputs": [],
   "source": []
  }
 ],
 "metadata": {
  "kernelspec": {
   "display_name": "base",
   "language": "python",
   "name": "python3"
  },
  "language_info": {
   "codemirror_mode": {
    "name": "ipython",
    "version": 3
   },
   "file_extension": ".py",
   "mimetype": "text/x-python",
   "name": "python",
   "nbconvert_exporter": "python",
   "pygments_lexer": "ipython3",
   "version": "3.11.7"
  }
 },
 "nbformat": 4,
 "nbformat_minor": 5
}

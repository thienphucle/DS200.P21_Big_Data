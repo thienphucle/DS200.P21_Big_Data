{
 "cells": [
  {
   "cell_type": "markdown",
   "id": "68253d4d",
   "metadata": {},
   "source": [
    "### **Import lib**"
   ]
  },
  {
   "cell_type": "code",
   "execution_count": 1,
   "id": "0fd68ff7",
   "metadata": {},
   "outputs": [],
   "source": [
    "import pandas as pd\n",
    "import numpy as np\n",
    "from dateutil import tz\n",
    "pd.set_option('display.max_columns', None)\n",
    "pd.set_option('display.max_rows', None)\n",
    "pd.set_option('display.width', None)\n",
    "pd.set_option('display.max_colwidth', None)"
   ]
  },
  {
   "cell_type": "markdown",
   "id": "dea82dc6",
   "metadata": {},
   "source": [
    "### **1. Reading data**"
   ]
  },
  {
   "cell_type": "markdown",
   "id": "16c42d76",
   "metadata": {},
   "source": [
    "**Hong Nhung crawled data**"
   ]
  },
  {
   "cell_type": "code",
   "execution_count": 2,
   "id": "5e81aa2f",
   "metadata": {},
   "outputs": [],
   "source": [
    "hn1 = pd.read_csv(r\"D:\\UIT\\DS200.P21_Big_Data-4\\Dataset\\Raw Data\\User Videos\\HN\\momandbaby_food_videos_1.csv\")\n",
    "hn2 = pd.read_csv(r\"D:\\UIT\\DS200.P21_Big_Data-4\\Dataset\\Raw Data\\User Videos\\HN\\momandbaby_food_videos_1.csv\")\n",
    "hn3 = pd.read_csv(r\"D:\\UIT\\DS200.P21_Big_Data-4\\Dataset\\Raw Data\\User Videos\\HN\\momandbaby_food_videos_1.csv\")\n",
    "hn4 = pd.read_csv(r\"D:\\UIT\\DS200.P21_Big_Data-4\\Dataset\\Raw Data\\User Videos\\HN\\momandbaby_food_videos_1.csv\")\n",
    "hn = pd.concat([hn1, hn2, hn3, hn4])\n",
    "\n",
    "hn_user_name = pd.read_csv(r\"D:\\UIT\\DS200.P21_Big_Data-4\\Dataset\\Raw Data\\User name\\momandbaby_food.csv\")"
   ]
  },
  {
   "cell_type": "markdown",
   "id": "78d76b38",
   "metadata": {},
   "source": [
    "**Thien Phuc crawled data**"
   ]
  },
  {
   "cell_type": "code",
   "execution_count": 3,
   "id": "cb980946",
   "metadata": {},
   "outputs": [],
   "source": [
    "tp1 = pd.read_csv(r\"D:\\UIT\\DS200.P21_Big_Data-4\\Dataset\\Raw Data\\User Videos\\TPL\\health_techandhousehold_videos_1.csv\")\n",
    "tp2 = pd.read_csv(r\"D:\\UIT\\DS200.P21_Big_Data-4\\Dataset\\Raw Data\\User Videos\\TPL\\health_techandhousehold_videos_1.csv\")\n",
    "tp3 = pd.read_csv(r\"D:\\UIT\\DS200.P21_Big_Data-4\\Dataset\\Raw Data\\User Videos\\TPL\\health_techandhousehold_videos_1.csv\")\n",
    "tp4 = pd.read_csv(r\"D:\\UIT\\DS200.P21_Big_Data-4\\Dataset\\Raw Data\\User Videos\\TPL\\health_techandhousehold_videos_1.csv\")\n",
    "tp = pd.concat([tp1, tp2, tp3, tp4])\n",
    "\n",
    "tp_user_name = pd.read_csv(r\"D:\\UIT\\DS200.P21_Big_Data-4\\Dataset\\Raw Data\\User name\\health_techandhousehold.csv\")"
   ]
  },
  {
   "cell_type": "markdown",
   "id": "f97f4556",
   "metadata": {},
   "source": [
    "**Ngoc Mai crawled data**"
   ]
  },
  {
   "cell_type": "code",
   "execution_count": null,
   "id": "bfa739ee",
   "metadata": {},
   "outputs": [],
   "source": [
    "nm1 = pd.read_csv(r\"D:\\UIT\\DS200.P21_Big_Data-4\\Dataset\\Raw Data\\User Videos\\NM\\fashion_beauty_videos_1.csv\")\n",
    "nm2 = pd.read_csv(r\"D:\\UIT\\DS200.P21_Big_Data-4\\Dataset\\Raw Data\\User Videos\\NM\\fashion_beauty_videos_2.csv\")\n",
    "nm3 = pd.read_csv(r\"D:\\UIT\\DS200.P21_Big_Data-4\\Dataset\\Raw Data\\User Videos\\NM\\fashion_beauty_videos_3.csv\")\n",
    "nm4 = pd.read_csv(r\"D:\\UIT\\DS200.P21_Big_Data-4\\Dataset\\Raw Data\\User Videos\\NM\\fashion_beauty_videos_4.csv\")\n",
    "nm = pd.concat([nm1, nm2, nm3, nm4])\n",
    "\n",
    "nm_user_name = pd.read_csv(r\"D:\\UIT\\DS200.P21_Big_Data-4\\Dataset\\Raw Data\\User name\\beauty_fashion.csv\")"
   ]
  },
  {
   "cell_type": "markdown",
   "id": "2a5225ad",
   "metadata": {},
   "source": [
    "**Merging data**"
   ]
  },
  {
   "cell_type": "code",
   "execution_count": 5,
   "id": "1fb9db52",
   "metadata": {},
   "outputs": [],
   "source": [
    "total_user_name = pd.concat([hn_user_name, tp_user_name, nm_user_name])\n",
    "total_user_name.reset_index(inplace=True)\n",
    "total_user_name.drop(columns= ['index'], inplace = True)\n",
    "total_user_name = total_user_name.rename(columns= {'username':'user_name'})"
   ]
  },
  {
   "cell_type": "code",
   "execution_count": 6,
   "id": "d1422041",
   "metadata": {},
   "outputs": [],
   "source": [
    "df = pd.concat([hn, tp, nm])\n",
    "df.reset_index(inplace = True)"
   ]
  },
  {
   "cell_type": "markdown",
   "id": "d76c5f95",
   "metadata": {},
   "source": [
    "### **2. Lọc trùng các user_name**"
   ]
  },
  {
   "cell_type": "markdown",
   "id": "df3b9d2e",
   "metadata": {},
   "source": [
    "**Drop Duplicates**"
   ]
  },
  {
   "cell_type": "code",
   "execution_count": 7,
   "id": "2a388576",
   "metadata": {},
   "outputs": [],
   "source": [
    "total_user_name.drop_duplicates(inplace = True)"
   ]
  },
  {
   "cell_type": "markdown",
   "id": "b27dab9b",
   "metadata": {},
   "source": [
    "**Grouping topic**"
   ]
  },
  {
   "cell_type": "code",
   "execution_count": 8,
   "id": "3c95c206",
   "metadata": {},
   "outputs": [],
   "source": [
    "total_user_name = total_user_name.groupby('user_name')['topic'].agg(lambda x: list(set(x))).reset_index()"
   ]
  },
  {
   "cell_type": "code",
   "execution_count": 9,
   "id": "612a4fa1",
   "metadata": {},
   "outputs": [
    {
     "data": {
      "text/plain": [
       "392"
      ]
     },
     "execution_count": 9,
     "metadata": {},
     "output_type": "execute_result"
    }
   ],
   "source": [
    "total_user_name.shape[0]"
   ]
  },
  {
   "cell_type": "markdown",
   "id": "58c7fe28",
   "metadata": {},
   "source": [
    "### **3. Lọc các video không đủ yêu cầu về snapshot**"
   ]
  },
  {
   "cell_type": "markdown",
   "id": "6a7912ea",
   "metadata": {},
   "source": [
    "#### *Chuyển dữ liệu các cột thời gian thành dữ liệu datetime*"
   ]
  },
  {
   "cell_type": "code",
   "execution_count": 10,
   "id": "4484751a",
   "metadata": {},
   "outputs": [],
   "source": [
    "def convert_to_vietnam_time(utc_time):\n",
    "    from_zone = tz.tzutc()\n",
    "    to_zone = tz.gettz('Asia/Ho_Chi_Minh')\n",
    "    utc = pd.to_datetime(utc_time).replace(tzinfo=from_zone)\n",
    "    return utc.astimezone(to_zone)"
   ]
  },
  {
   "cell_type": "code",
   "execution_count": 11,
   "id": "f228ba64",
   "metadata": {},
   "outputs": [],
   "source": [
    "df['vid_postTime'] = df['vid_postTime'].apply(convert_to_vietnam_time)\n",
    "df['vid_scrapeTime'] = df['vid_scrapeTime'].apply(convert_to_vietnam_time)"
   ]
  },
  {
   "cell_type": "markdown",
   "id": "c3d36b34",
   "metadata": {},
   "source": [
    "#### *Sắp xếp các  dòng dữ liệu theo từng vid_id*"
   ]
  },
  {
   "cell_type": "code",
   "execution_count": 12,
   "id": "d58489ae",
   "metadata": {},
   "outputs": [],
   "source": [
    "df.sort_values(['user_name', 'vid_id', 'vid_scrapeTime'], ascending=True, inplace=True)"
   ]
  },
  {
   "cell_type": "markdown",
   "id": "25b36433",
   "metadata": {},
   "source": [
    "#### *Lọc dòng dữ liệu trùng*"
   ]
  },
  {
   "cell_type": "code",
   "execution_count": 13,
   "id": "57977f22",
   "metadata": {},
   "outputs": [
    {
     "data": {
      "text/plain": [
       "38148"
      ]
     },
     "execution_count": 13,
     "metadata": {},
     "output_type": "execute_result"
    }
   ],
   "source": [
    "df.shape[0]"
   ]
  },
  {
   "cell_type": "code",
   "execution_count": 14,
   "id": "bf970349",
   "metadata": {},
   "outputs": [
    {
     "data": {
      "text/plain": [
       "25554"
      ]
     },
     "execution_count": 14,
     "metadata": {},
     "output_type": "execute_result"
    }
   ],
   "source": [
    "df.drop_duplicates(inplace = True)\n",
    "df.reset_index(inplace = True)\n",
    "df.shape[0]"
   ]
  },
  {
   "cell_type": "markdown",
   "id": "500e36f9",
   "metadata": {},
   "source": [
    "#### *Số lượng sample của mỗi lượng snapshot*"
   ]
  },
  {
   "cell_type": "code",
   "execution_count": 15,
   "id": "287c8eb1",
   "metadata": {},
   "outputs": [
    {
     "data": {
      "text/plain": [
       "snapshot_counts\n",
       "1     4645\n",
       "2     3178\n",
       "3     2913\n",
       "4    14620\n",
       "5       20\n",
       "6       12\n",
       "7       14\n",
       "8      152\n",
       "Name: count, dtype: int64"
      ]
     },
     "execution_count": 15,
     "metadata": {},
     "output_type": "execute_result"
    }
   ],
   "source": [
    "# Đếm số snapshot của mỗi video\n",
    "video_counts = df.groupby('vid_id').size().reset_index(name='snapshot_counts')\n",
    "\n",
    "# Merge lại để kiểm tra rõ ràng\n",
    "df_with_count = df.merge(video_counts, on='vid_id')\n",
    "\n",
    "# Kiểm tra phân phối\n",
    "df_with_count['snapshot_counts'].value_counts().sort_index()"
   ]
  },
  {
   "cell_type": "markdown",
   "id": "31513273",
   "metadata": {},
   "source": [
    "#### *Xóa các video chỉ có 1-2 snapshot*"
   ]
  },
  {
   "cell_type": "code",
   "execution_count": 16,
   "id": "2196bf89",
   "metadata": {},
   "outputs": [
    {
     "name": "stdout",
     "output_type": "stream",
     "text": [
      "Tổng số lượng sample:  25554\n",
      "Số sample của video có ít hơn 2 snapshot:  6234\n",
      "Số sample của video có đủ 4 snapshot:  14620\n",
      "Số sample của video có 3 snapshot:  2913\n",
      "Số sample của video có nhiều hơn 5 snapshot:  198\n"
     ]
    }
   ],
   "source": [
    "# Đếm số mốc thời gian của mỗi video\n",
    "video_counts = df.groupby(['user_name', 'vid_id'])['vid_scrapeTime'].count().reset_index()\n",
    "video_counts = video_counts.rename(columns={'vid_scrapeTime': 'snapshot_count'})\n",
    "\n",
    "# Lọc các video chỉ có 1-2 snapshot\n",
    "invalid_videos = video_counts[video_counts['snapshot_count'] <= 2]\n",
    "\n",
    "# Các video có đủ 4 snapshot \n",
    "valid_videos = video_counts[video_counts['snapshot_count'] == 4]\n",
    "valid_data = df.merge(valid_videos[['user_name', 'vid_id']], on=['user_name', 'vid_id'], how='inner')\n",
    "\n",
    "# Các video chỉ có 3 snapshot \n",
    "snapshot_3 = video_counts[video_counts['snapshot_count'] == 3]\n",
    "snapshot_3 = df.merge(snapshot_3[['user_name', 'vid_id']], on=['user_name', 'vid_id'], how='inner')\n",
    "\n",
    "# Các video có từ 5 snapshot trở lên \n",
    "morethan_5_snapshot = video_counts[video_counts['snapshot_count'] >= 5]\n",
    "morethan_5_snapshot = df.merge(morethan_5_snapshot[['user_name', 'vid_id']], on=['user_name', 'vid_id'], how='inner')\n",
    "\n",
    "# Reset index và drop các cột dư thừa \n",
    "valid_data.drop(columns = ['level_0', 'index'], inplace = True)\n",
    "snapshot_3.drop(columns = ['level_0', 'index'], inplace = True)\n",
    "\n",
    "\n",
    "# In ra số lượng sample của mối loại dữ liệu \n",
    "print(\"Tổng số lượng sample: \", df.shape[0])\n",
    "print(\"Số sample của video có ít hơn 2 snapshot: \", invalid_videos.shape[0])\n",
    "print(\"Số sample của video có đủ 4 snapshot: \", valid_data.shape[0])\n",
    "print(\"Số sample của video có 3 snapshot: \", snapshot_3.shape[0])\n",
    "print(\"Số sample của video có nhiều hơn 5 snapshot: \", morethan_5_snapshot.shape[0])"
   ]
  },
  {
   "cell_type": "markdown",
   "id": "72f5dfcd",
   "metadata": {},
   "source": [
    "### **4. Lọc các snapshot có khoảng cách thời gian quá gần**"
   ]
  },
  {
   "cell_type": "markdown",
   "id": "343b52b5",
   "metadata": {},
   "source": [
    "#### *Hàm trích xuất khoảng thời gian giữa các video*"
   ]
  },
  {
   "cell_type": "code",
   "execution_count": 17,
   "id": "f8e524a0",
   "metadata": {},
   "outputs": [],
   "source": [
    "from datetime import timedelta\n",
    "\n",
    "def select_latest_4_snapshots(df):\n",
    "    filtered_dfs = []\n",
    "\n",
    "    # Đảm bảo datetime đúng\n",
    "    df = df.sort_values(['vid_id', 'vid_scrapeTime'], ascending=[True, False])\n",
    "\n",
    "    for vid_id, group in df.groupby('vid_id'):\n",
    "        selected = []\n",
    "        used_times = []\n",
    "\n",
    "        for _, row in group.iterrows():\n",
    "            current_time = row['vid_scrapeTime']\n",
    "\n",
    "            # Nếu chưa chọn snapshot nào, chọn snapshot đầu tiên\n",
    "            if not used_times:\n",
    "                selected.append(row)\n",
    "                used_times.append(current_time)\n",
    "            else:\n",
    "                # Kiểm tra thời gian tối thiểu 1 ngày với các snapshot đã chọn\n",
    "                if all(abs((current_time - prev_time).days) >= 1 for prev_time in used_times):\n",
    "                    selected.append(row)\n",
    "                    used_times.append(current_time)\n",
    "\n",
    "            # Nếu đã đủ 4 snapshot, dừng\n",
    "            if len(selected) == 4:\n",
    "                break\n",
    "\n",
    "        if selected:\n",
    "            filtered_dfs.append(pd.DataFrame(selected))\n",
    "\n",
    "    return pd.concat(filtered_dfs, ignore_index=True)\n"
   ]
  },
  {
   "cell_type": "code",
   "execution_count": 18,
   "id": "ee5c5938",
   "metadata": {},
   "outputs": [
    {
     "data": {
      "text/plain": [
       "108"
      ]
     },
     "execution_count": 18,
     "metadata": {},
     "output_type": "execute_result"
    }
   ],
   "source": [
    "filtered_morethan_5_snapshot = select_latest_4_snapshots(morethan_5_snapshot)\n",
    "filtered_morethan_5_snapshot.sort_values(['vid_id', 'vid_scrapeTime'], ascending=True, inplace=True)\n",
    "filtered_morethan_5_snapshot.drop(columns = ['level_0', 'index'], inplace = True)\n",
    "filtered_morethan_5_snapshot.shape[0]"
   ]
  },
  {
   "cell_type": "markdown",
   "id": "e5a1d323",
   "metadata": {},
   "source": [
    "#### *Gộp các sample tiêu chuẩn - đủ 4 snapshot*"
   ]
  },
  {
   "cell_type": "code",
   "execution_count": 19,
   "id": "f338c5f6",
   "metadata": {},
   "outputs": [
    {
     "data": {
      "text/plain": [
       "14728"
      ]
     },
     "execution_count": 19,
     "metadata": {},
     "output_type": "execute_result"
    }
   ],
   "source": [
    "valid_data  = pd.concat([valid_data, filtered_morethan_5_snapshot])\n",
    "valid_data.sort_values(['vid_id', 'vid_scrapeTime'], ascending=True, inplace=True)\n",
    "valid_data.reset_index(inplace=True)\n",
    "valid_data.drop(columns=['index'], inplace=True)\n",
    "valid_data.shape[0]"
   ]
  },
  {
   "cell_type": "markdown",
   "id": "66d2e4c9",
   "metadata": {},
   "source": [
    "### **5. Lọc các user_name unique**"
   ]
  },
  {
   "cell_type": "code",
   "execution_count": 20,
   "id": "bf19513b",
   "metadata": {},
   "outputs": [
    {
     "data": {
      "text/plain": [
       "191"
      ]
     },
     "execution_count": 20,
     "metadata": {},
     "output_type": "execute_result"
    }
   ],
   "source": [
    "unique_user_name = total_user_name[total_user_name['user_name'].isin(valid_data['user_name'].unique())]\n",
    "unique_user_name.shape[0]"
   ]
  },
  {
   "cell_type": "markdown",
   "id": "fe8aad6e",
   "metadata": {},
   "source": [
    "**Merge topic vào valid_data**"
   ]
  },
  {
   "cell_type": "code",
   "execution_count": 21,
   "id": "5dc1f89e",
   "metadata": {},
   "outputs": [],
   "source": [
    "valid_data = valid_data.merge(unique_user_name, on=['user_name'], how='left')"
   ]
  },
  {
   "cell_type": "markdown",
   "id": "e186bfcc",
   "metadata": {},
   "source": [
    "### **6. Lưu các file data**"
   ]
  },
  {
   "cell_type": "code",
   "execution_count": 23,
   "id": "c9ceed78",
   "metadata": {},
   "outputs": [],
   "source": [
    "valid_data.to_csv(r\"D:\\UIT\\DS200.P21_Big_Data-4\\Dataset\\Raw Data\\Merged Data\\training_data.csv\")\n",
    "snapshot_3.to_csv(r\"D:\\UIT\\DS200.P21_Big_Data-4\\Dataset\\Raw Data\\Merged Data\\streaming_data.csv\")\n",
    "unique_user_name.to_csv(r\"D:\\UIT\\DS200.P21_Big_Data-4\\Dataset\\Raw Data\\Merged Data\\total_user_name.csv\")"
   ]
  }
 ],
 "metadata": {
  "kernelspec": {
   "display_name": "base",
   "language": "python",
   "name": "python3"
  },
  "language_info": {
   "codemirror_mode": {
    "name": "ipython",
    "version": 3
   },
   "file_extension": ".py",
   "mimetype": "text/x-python",
   "name": "python",
   "nbconvert_exporter": "python",
   "pygments_lexer": "ipython3",
   "version": "3.11.5"
  }
 },
 "nbformat": 4,
 "nbformat_minor": 5
}
